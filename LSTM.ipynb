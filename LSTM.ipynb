{
  "cells": [
    {
      "cell_type": "markdown",
      "metadata": {
        "id": "view-in-github",
        "colab_type": "text"
      },
      "source": [
        "<a href=\"https://colab.research.google.com/github/MahamadouNiakate/CV.github.io/blob/master/LSTM.ipynb\" target=\"_parent\"><img src=\"https://colab.research.google.com/assets/colab-badge.svg\" alt=\"Open In Colab\"/></a>"
      ]
    },
    {
      "cell_type": "code",
      "execution_count": 1,
      "metadata": {
        "colab": {
          "base_uri": "https://localhost:8080/"
        },
        "id": "MMk7xkWQnwEE",
        "outputId": "9306e4f7-24c6-4307-806c-5d5da51adb98"
      },
      "outputs": [
        {
          "output_type": "stream",
          "name": "stdout",
          "text": [
            "Drive already mounted at /content/drive; to attempt to forcibly remount, call drive.mount(\"/content/drive\", force_remount=True).\n"
          ]
        }
      ],
      "source": [
        "import pandas as pd\n",
        "import matplotlib.pyplot as plt\n",
        "from google.colab import drive\n",
        "drive.mount('/content/drive')\n",
        "from sklearn.preprocessing import RobustScaler, MinMaxScaler\n",
        "from tensorflow.keras.models import Sequential\n",
        "from tensorflow.keras import layers\n",
        "import numpy as np\n",
        "from statsmodels.tsa.stattools import adfuller\n",
        "import pandas as pd\n",
        "from tensorflow.keras.callbacks import EarlyStopping\n",
        "from tensorflow.keras import optimizers\n",
        "import matplotlib.pyplot as plt"
      ]
    },
    {
      "cell_type": "markdown",
      "metadata": {
        "id": "sX8W5ZVotMQY"
      },
      "source": [
        "#Import Data"
      ]
    },
    {
      "cell_type": "code",
      "execution_count": 2,
      "metadata": {
        "colab": {
          "base_uri": "https://localhost:8080/",
          "height": 354
        },
        "id": "rWA8yp11s-1T",
        "outputId": "a4f47f7d-e199-42f9-9598-4ecf915d4edc"
      },
      "outputs": [
        {
          "output_type": "execute_result",
          "data": {
            "text/plain": [
              "         Date        Open        High         Low       Close    Volume  \\\n",
              "0  2014-09-17  465.864014  468.174011  452.421997  457.334015  21056800   \n",
              "1  2014-09-18  456.859985  456.859985  413.104004  424.440002  34483200   \n",
              "2  2014-09-19  424.102997  427.834991  384.532013  394.795990  37919700   \n",
              "3  2014-09-20  394.673004  423.295990  389.882996  408.903992  36863600   \n",
              "4  2014-09-21  408.084991  412.425995  393.181000  398.821014  26580100   \n",
              "\n",
              "   Dividends  Stock Splits  deseasonalized  linearized       log  \n",
              "0          0             0      457.091490    6.124884  6.125414  \n",
              "1          0             0      424.749480    6.051500  6.050771  \n",
              "2          0             0      395.033172    5.978970  5.978369  \n",
              "3          0             0      408.905349    6.013484  6.013480  \n",
              "4          0             0      399.399844    5.989963  5.988513  "
            ],
            "text/html": [
              "\n",
              "  <div id=\"df-ff20c273-6aea-4b9b-85a5-d3cb3c25d7df\">\n",
              "    <div class=\"colab-df-container\">\n",
              "      <div>\n",
              "<style scoped>\n",
              "    .dataframe tbody tr th:only-of-type {\n",
              "        vertical-align: middle;\n",
              "    }\n",
              "\n",
              "    .dataframe tbody tr th {\n",
              "        vertical-align: top;\n",
              "    }\n",
              "\n",
              "    .dataframe thead th {\n",
              "        text-align: right;\n",
              "    }\n",
              "</style>\n",
              "<table border=\"1\" class=\"dataframe\">\n",
              "  <thead>\n",
              "    <tr style=\"text-align: right;\">\n",
              "      <th></th>\n",
              "      <th>Date</th>\n",
              "      <th>Open</th>\n",
              "      <th>High</th>\n",
              "      <th>Low</th>\n",
              "      <th>Close</th>\n",
              "      <th>Volume</th>\n",
              "      <th>Dividends</th>\n",
              "      <th>Stock Splits</th>\n",
              "      <th>deseasonalized</th>\n",
              "      <th>linearized</th>\n",
              "      <th>log</th>\n",
              "    </tr>\n",
              "  </thead>\n",
              "  <tbody>\n",
              "    <tr>\n",
              "      <th>0</th>\n",
              "      <td>2014-09-17</td>\n",
              "      <td>465.864014</td>\n",
              "      <td>468.174011</td>\n",
              "      <td>452.421997</td>\n",
              "      <td>457.334015</td>\n",
              "      <td>21056800</td>\n",
              "      <td>0</td>\n",
              "      <td>0</td>\n",
              "      <td>457.091490</td>\n",
              "      <td>6.124884</td>\n",
              "      <td>6.125414</td>\n",
              "    </tr>\n",
              "    <tr>\n",
              "      <th>1</th>\n",
              "      <td>2014-09-18</td>\n",
              "      <td>456.859985</td>\n",
              "      <td>456.859985</td>\n",
              "      <td>413.104004</td>\n",
              "      <td>424.440002</td>\n",
              "      <td>34483200</td>\n",
              "      <td>0</td>\n",
              "      <td>0</td>\n",
              "      <td>424.749480</td>\n",
              "      <td>6.051500</td>\n",
              "      <td>6.050771</td>\n",
              "    </tr>\n",
              "    <tr>\n",
              "      <th>2</th>\n",
              "      <td>2014-09-19</td>\n",
              "      <td>424.102997</td>\n",
              "      <td>427.834991</td>\n",
              "      <td>384.532013</td>\n",
              "      <td>394.795990</td>\n",
              "      <td>37919700</td>\n",
              "      <td>0</td>\n",
              "      <td>0</td>\n",
              "      <td>395.033172</td>\n",
              "      <td>5.978970</td>\n",
              "      <td>5.978369</td>\n",
              "    </tr>\n",
              "    <tr>\n",
              "      <th>3</th>\n",
              "      <td>2014-09-20</td>\n",
              "      <td>394.673004</td>\n",
              "      <td>423.295990</td>\n",
              "      <td>389.882996</td>\n",
              "      <td>408.903992</td>\n",
              "      <td>36863600</td>\n",
              "      <td>0</td>\n",
              "      <td>0</td>\n",
              "      <td>408.905349</td>\n",
              "      <td>6.013484</td>\n",
              "      <td>6.013480</td>\n",
              "    </tr>\n",
              "    <tr>\n",
              "      <th>4</th>\n",
              "      <td>2014-09-21</td>\n",
              "      <td>408.084991</td>\n",
              "      <td>412.425995</td>\n",
              "      <td>393.181000</td>\n",
              "      <td>398.821014</td>\n",
              "      <td>26580100</td>\n",
              "      <td>0</td>\n",
              "      <td>0</td>\n",
              "      <td>399.399844</td>\n",
              "      <td>5.989963</td>\n",
              "      <td>5.988513</td>\n",
              "    </tr>\n",
              "  </tbody>\n",
              "</table>\n",
              "</div>\n",
              "      <button class=\"colab-df-convert\" onclick=\"convertToInteractive('df-ff20c273-6aea-4b9b-85a5-d3cb3c25d7df')\"\n",
              "              title=\"Convert this dataframe to an interactive table.\"\n",
              "              style=\"display:none;\">\n",
              "        \n",
              "  <svg xmlns=\"http://www.w3.org/2000/svg\" height=\"24px\"viewBox=\"0 0 24 24\"\n",
              "       width=\"24px\">\n",
              "    <path d=\"M0 0h24v24H0V0z\" fill=\"none\"/>\n",
              "    <path d=\"M18.56 5.44l.94 2.06.94-2.06 2.06-.94-2.06-.94-.94-2.06-.94 2.06-2.06.94zm-11 1L8.5 8.5l.94-2.06 2.06-.94-2.06-.94L8.5 2.5l-.94 2.06-2.06.94zm10 10l.94 2.06.94-2.06 2.06-.94-2.06-.94-.94-2.06-.94 2.06-2.06.94z\"/><path d=\"M17.41 7.96l-1.37-1.37c-.4-.4-.92-.59-1.43-.59-.52 0-1.04.2-1.43.59L10.3 9.45l-7.72 7.72c-.78.78-.78 2.05 0 2.83L4 21.41c.39.39.9.59 1.41.59.51 0 1.02-.2 1.41-.59l7.78-7.78 2.81-2.81c.8-.78.8-2.07 0-2.86zM5.41 20L4 18.59l7.72-7.72 1.47 1.35L5.41 20z\"/>\n",
              "  </svg>\n",
              "      </button>\n",
              "      \n",
              "  <style>\n",
              "    .colab-df-container {\n",
              "      display:flex;\n",
              "      flex-wrap:wrap;\n",
              "      gap: 12px;\n",
              "    }\n",
              "\n",
              "    .colab-df-convert {\n",
              "      background-color: #E8F0FE;\n",
              "      border: none;\n",
              "      border-radius: 50%;\n",
              "      cursor: pointer;\n",
              "      display: none;\n",
              "      fill: #1967D2;\n",
              "      height: 32px;\n",
              "      padding: 0 0 0 0;\n",
              "      width: 32px;\n",
              "    }\n",
              "\n",
              "    .colab-df-convert:hover {\n",
              "      background-color: #E2EBFA;\n",
              "      box-shadow: 0px 1px 2px rgba(60, 64, 67, 0.3), 0px 1px 3px 1px rgba(60, 64, 67, 0.15);\n",
              "      fill: #174EA6;\n",
              "    }\n",
              "\n",
              "    [theme=dark] .colab-df-convert {\n",
              "      background-color: #3B4455;\n",
              "      fill: #D2E3FC;\n",
              "    }\n",
              "\n",
              "    [theme=dark] .colab-df-convert:hover {\n",
              "      background-color: #434B5C;\n",
              "      box-shadow: 0px 1px 3px 1px rgba(0, 0, 0, 0.15);\n",
              "      filter: drop-shadow(0px 1px 2px rgba(0, 0, 0, 0.3));\n",
              "      fill: #FFFFFF;\n",
              "    }\n",
              "  </style>\n",
              "\n",
              "      <script>\n",
              "        const buttonEl =\n",
              "          document.querySelector('#df-ff20c273-6aea-4b9b-85a5-d3cb3c25d7df button.colab-df-convert');\n",
              "        buttonEl.style.display =\n",
              "          google.colab.kernel.accessAllowed ? 'block' : 'none';\n",
              "\n",
              "        async function convertToInteractive(key) {\n",
              "          const element = document.querySelector('#df-ff20c273-6aea-4b9b-85a5-d3cb3c25d7df');\n",
              "          const dataTable =\n",
              "            await google.colab.kernel.invokeFunction('convertToInteractive',\n",
              "                                                     [key], {});\n",
              "          if (!dataTable) return;\n",
              "\n",
              "          const docLinkHtml = 'Like what you see? Visit the ' +\n",
              "            '<a target=\"_blank\" href=https://colab.research.google.com/notebooks/data_table.ipynb>data table notebook</a>'\n",
              "            + ' to learn more about interactive tables.';\n",
              "          element.innerHTML = '';\n",
              "          dataTable['output_type'] = 'display_data';\n",
              "          await google.colab.output.renderOutput(dataTable, element);\n",
              "          const docLink = document.createElement('div');\n",
              "          docLink.innerHTML = docLinkHtml;\n",
              "          element.appendChild(docLink);\n",
              "        }\n",
              "      </script>\n",
              "    </div>\n",
              "  </div>\n",
              "  "
            ]
          },
          "metadata": {},
          "execution_count": 2
        }
      ],
      "source": [
        "df = pd.read_csv('/content/drive/MyDrive/Colab Notebooks/bitcoin.csv',delimiter=',')\n",
        "df.head()"
      ]
    },
    {
      "cell_type": "code",
      "execution_count": 3,
      "metadata": {
        "id": "WDzdbIahKcQz"
      },
      "outputs": [],
      "source": [
        "df.set_index('Date', inplace=True)"
      ]
    },
    {
      "cell_type": "code",
      "execution_count": 4,
      "metadata": {
        "id": "-zZDU05fHPQU"
      },
      "outputs": [],
      "source": [
        "df = df.loc['2017-01-01' : '2022-11-22']"
      ]
    },
    {
      "cell_type": "code",
      "execution_count": 5,
      "metadata": {
        "colab": {
          "base_uri": "https://localhost:8080/",
          "height": 690
        },
        "id": "sXgWIXPLtYIZ",
        "outputId": "bffa271b-b404-43b5-d718-dc30e77cc0fa"
      },
      "outputs": [
        {
          "output_type": "execute_result",
          "data": {
            "text/plain": [
              "                    Open          High           Low         Close  \\\n",
              "Date                                                                 \n",
              "2017-01-01    963.658020   1003.080017    958.698975    998.325012   \n",
              "2017-01-02    998.617004   1031.390015    996.702026   1021.750000   \n",
              "2017-01-03   1021.599976   1044.079956   1021.599976   1043.839966   \n",
              "2017-01-04   1044.400024   1159.420044   1044.400024   1154.729980   \n",
              "2017-01-05   1156.729980   1191.099976    910.416992   1013.380005   \n",
              "...                  ...           ...           ...           ...   \n",
              "2022-08-19  23213.312500  23213.312500  20868.847656  20877.552734   \n",
              "2022-08-20  20872.841797  21350.806641  20856.730469  21166.060547   \n",
              "2022-08-21  21160.392578  21668.845703  21103.197266  21534.121094   \n",
              "2022-08-22  21531.462891  21531.462891  20939.183594  21398.908203   \n",
              "2022-08-23  21398.632812  21435.501953  20955.138672  21090.941406   \n",
              "\n",
              "                 Volume  Dividends  Stock Splits  deseasonalized  linearized  \\\n",
              "Date                                                                           \n",
              "2017-01-01    147775008          0             0      999.773932    6.907529   \n",
              "2017-01-02    222184992          0             0     1020.052250    6.927609   \n",
              "2017-01-03    185168000          0             0     1043.227974    6.950075   \n",
              "2017-01-04    344945984          0             0     1154.117625    7.051091   \n",
              "2017-01-05    510199008          0             0     1014.118905    6.921775   \n",
              "...                 ...        ...           ...             ...         ...   \n",
              "2022-08-19  40509610260          0             0    20890.095366    9.947030   \n",
              "2022-08-20  27595671000          0             0    21166.130816    9.960158   \n",
              "2022-08-21  23102307723          0             0    21565.374667    9.978844   \n",
              "2022-08-22  31666498758          0             0    21363.351559    9.969432   \n",
              "2022-08-23  32757368832          0             0    21078.576029    9.956012   \n",
              "\n",
              "                 log  \n",
              "Date                  \n",
              "2017-01-01  6.906079  \n",
              "2017-01-02  6.929272  \n",
              "2017-01-03  6.950661  \n",
              "2017-01-04  7.051622  \n",
              "2017-01-05  6.921047  \n",
              "...              ...  \n",
              "2022-08-19  9.946430  \n",
              "2022-08-20  9.960154  \n",
              "2022-08-21  9.977394  \n",
              "2022-08-22  9.971095  \n",
              "2022-08-23  9.956599  \n",
              "\n",
              "[2061 rows x 10 columns]"
            ],
            "text/html": [
              "\n",
              "  <div id=\"df-7fbda7ff-32c3-40a9-9421-656f4c11022d\">\n",
              "    <div class=\"colab-df-container\">\n",
              "      <div>\n",
              "<style scoped>\n",
              "    .dataframe tbody tr th:only-of-type {\n",
              "        vertical-align: middle;\n",
              "    }\n",
              "\n",
              "    .dataframe tbody tr th {\n",
              "        vertical-align: top;\n",
              "    }\n",
              "\n",
              "    .dataframe thead th {\n",
              "        text-align: right;\n",
              "    }\n",
              "</style>\n",
              "<table border=\"1\" class=\"dataframe\">\n",
              "  <thead>\n",
              "    <tr style=\"text-align: right;\">\n",
              "      <th></th>\n",
              "      <th>Open</th>\n",
              "      <th>High</th>\n",
              "      <th>Low</th>\n",
              "      <th>Close</th>\n",
              "      <th>Volume</th>\n",
              "      <th>Dividends</th>\n",
              "      <th>Stock Splits</th>\n",
              "      <th>deseasonalized</th>\n",
              "      <th>linearized</th>\n",
              "      <th>log</th>\n",
              "    </tr>\n",
              "    <tr>\n",
              "      <th>Date</th>\n",
              "      <th></th>\n",
              "      <th></th>\n",
              "      <th></th>\n",
              "      <th></th>\n",
              "      <th></th>\n",
              "      <th></th>\n",
              "      <th></th>\n",
              "      <th></th>\n",
              "      <th></th>\n",
              "      <th></th>\n",
              "    </tr>\n",
              "  </thead>\n",
              "  <tbody>\n",
              "    <tr>\n",
              "      <th>2017-01-01</th>\n",
              "      <td>963.658020</td>\n",
              "      <td>1003.080017</td>\n",
              "      <td>958.698975</td>\n",
              "      <td>998.325012</td>\n",
              "      <td>147775008</td>\n",
              "      <td>0</td>\n",
              "      <td>0</td>\n",
              "      <td>999.773932</td>\n",
              "      <td>6.907529</td>\n",
              "      <td>6.906079</td>\n",
              "    </tr>\n",
              "    <tr>\n",
              "      <th>2017-01-02</th>\n",
              "      <td>998.617004</td>\n",
              "      <td>1031.390015</td>\n",
              "      <td>996.702026</td>\n",
              "      <td>1021.750000</td>\n",
              "      <td>222184992</td>\n",
              "      <td>0</td>\n",
              "      <td>0</td>\n",
              "      <td>1020.052250</td>\n",
              "      <td>6.927609</td>\n",
              "      <td>6.929272</td>\n",
              "    </tr>\n",
              "    <tr>\n",
              "      <th>2017-01-03</th>\n",
              "      <td>1021.599976</td>\n",
              "      <td>1044.079956</td>\n",
              "      <td>1021.599976</td>\n",
              "      <td>1043.839966</td>\n",
              "      <td>185168000</td>\n",
              "      <td>0</td>\n",
              "      <td>0</td>\n",
              "      <td>1043.227974</td>\n",
              "      <td>6.950075</td>\n",
              "      <td>6.950661</td>\n",
              "    </tr>\n",
              "    <tr>\n",
              "      <th>2017-01-04</th>\n",
              "      <td>1044.400024</td>\n",
              "      <td>1159.420044</td>\n",
              "      <td>1044.400024</td>\n",
              "      <td>1154.729980</td>\n",
              "      <td>344945984</td>\n",
              "      <td>0</td>\n",
              "      <td>0</td>\n",
              "      <td>1154.117625</td>\n",
              "      <td>7.051091</td>\n",
              "      <td>7.051622</td>\n",
              "    </tr>\n",
              "    <tr>\n",
              "      <th>2017-01-05</th>\n",
              "      <td>1156.729980</td>\n",
              "      <td>1191.099976</td>\n",
              "      <td>910.416992</td>\n",
              "      <td>1013.380005</td>\n",
              "      <td>510199008</td>\n",
              "      <td>0</td>\n",
              "      <td>0</td>\n",
              "      <td>1014.118905</td>\n",
              "      <td>6.921775</td>\n",
              "      <td>6.921047</td>\n",
              "    </tr>\n",
              "    <tr>\n",
              "      <th>...</th>\n",
              "      <td>...</td>\n",
              "      <td>...</td>\n",
              "      <td>...</td>\n",
              "      <td>...</td>\n",
              "      <td>...</td>\n",
              "      <td>...</td>\n",
              "      <td>...</td>\n",
              "      <td>...</td>\n",
              "      <td>...</td>\n",
              "      <td>...</td>\n",
              "    </tr>\n",
              "    <tr>\n",
              "      <th>2022-08-19</th>\n",
              "      <td>23213.312500</td>\n",
              "      <td>23213.312500</td>\n",
              "      <td>20868.847656</td>\n",
              "      <td>20877.552734</td>\n",
              "      <td>40509610260</td>\n",
              "      <td>0</td>\n",
              "      <td>0</td>\n",
              "      <td>20890.095366</td>\n",
              "      <td>9.947030</td>\n",
              "      <td>9.946430</td>\n",
              "    </tr>\n",
              "    <tr>\n",
              "      <th>2022-08-20</th>\n",
              "      <td>20872.841797</td>\n",
              "      <td>21350.806641</td>\n",
              "      <td>20856.730469</td>\n",
              "      <td>21166.060547</td>\n",
              "      <td>27595671000</td>\n",
              "      <td>0</td>\n",
              "      <td>0</td>\n",
              "      <td>21166.130816</td>\n",
              "      <td>9.960158</td>\n",
              "      <td>9.960154</td>\n",
              "    </tr>\n",
              "    <tr>\n",
              "      <th>2022-08-21</th>\n",
              "      <td>21160.392578</td>\n",
              "      <td>21668.845703</td>\n",
              "      <td>21103.197266</td>\n",
              "      <td>21534.121094</td>\n",
              "      <td>23102307723</td>\n",
              "      <td>0</td>\n",
              "      <td>0</td>\n",
              "      <td>21565.374667</td>\n",
              "      <td>9.978844</td>\n",
              "      <td>9.977394</td>\n",
              "    </tr>\n",
              "    <tr>\n",
              "      <th>2022-08-22</th>\n",
              "      <td>21531.462891</td>\n",
              "      <td>21531.462891</td>\n",
              "      <td>20939.183594</td>\n",
              "      <td>21398.908203</td>\n",
              "      <td>31666498758</td>\n",
              "      <td>0</td>\n",
              "      <td>0</td>\n",
              "      <td>21363.351559</td>\n",
              "      <td>9.969432</td>\n",
              "      <td>9.971095</td>\n",
              "    </tr>\n",
              "    <tr>\n",
              "      <th>2022-08-23</th>\n",
              "      <td>21398.632812</td>\n",
              "      <td>21435.501953</td>\n",
              "      <td>20955.138672</td>\n",
              "      <td>21090.941406</td>\n",
              "      <td>32757368832</td>\n",
              "      <td>0</td>\n",
              "      <td>0</td>\n",
              "      <td>21078.576029</td>\n",
              "      <td>9.956012</td>\n",
              "      <td>9.956599</td>\n",
              "    </tr>\n",
              "  </tbody>\n",
              "</table>\n",
              "<p>2061 rows × 10 columns</p>\n",
              "</div>\n",
              "      <button class=\"colab-df-convert\" onclick=\"convertToInteractive('df-7fbda7ff-32c3-40a9-9421-656f4c11022d')\"\n",
              "              title=\"Convert this dataframe to an interactive table.\"\n",
              "              style=\"display:none;\">\n",
              "        \n",
              "  <svg xmlns=\"http://www.w3.org/2000/svg\" height=\"24px\"viewBox=\"0 0 24 24\"\n",
              "       width=\"24px\">\n",
              "    <path d=\"M0 0h24v24H0V0z\" fill=\"none\"/>\n",
              "    <path d=\"M18.56 5.44l.94 2.06.94-2.06 2.06-.94-2.06-.94-.94-2.06-.94 2.06-2.06.94zm-11 1L8.5 8.5l.94-2.06 2.06-.94-2.06-.94L8.5 2.5l-.94 2.06-2.06.94zm10 10l.94 2.06.94-2.06 2.06-.94-2.06-.94-.94-2.06-.94 2.06-2.06.94z\"/><path d=\"M17.41 7.96l-1.37-1.37c-.4-.4-.92-.59-1.43-.59-.52 0-1.04.2-1.43.59L10.3 9.45l-7.72 7.72c-.78.78-.78 2.05 0 2.83L4 21.41c.39.39.9.59 1.41.59.51 0 1.02-.2 1.41-.59l7.78-7.78 2.81-2.81c.8-.78.8-2.07 0-2.86zM5.41 20L4 18.59l7.72-7.72 1.47 1.35L5.41 20z\"/>\n",
              "  </svg>\n",
              "      </button>\n",
              "      \n",
              "  <style>\n",
              "    .colab-df-container {\n",
              "      display:flex;\n",
              "      flex-wrap:wrap;\n",
              "      gap: 12px;\n",
              "    }\n",
              "\n",
              "    .colab-df-convert {\n",
              "      background-color: #E8F0FE;\n",
              "      border: none;\n",
              "      border-radius: 50%;\n",
              "      cursor: pointer;\n",
              "      display: none;\n",
              "      fill: #1967D2;\n",
              "      height: 32px;\n",
              "      padding: 0 0 0 0;\n",
              "      width: 32px;\n",
              "    }\n",
              "\n",
              "    .colab-df-convert:hover {\n",
              "      background-color: #E2EBFA;\n",
              "      box-shadow: 0px 1px 2px rgba(60, 64, 67, 0.3), 0px 1px 3px 1px rgba(60, 64, 67, 0.15);\n",
              "      fill: #174EA6;\n",
              "    }\n",
              "\n",
              "    [theme=dark] .colab-df-convert {\n",
              "      background-color: #3B4455;\n",
              "      fill: #D2E3FC;\n",
              "    }\n",
              "\n",
              "    [theme=dark] .colab-df-convert:hover {\n",
              "      background-color: #434B5C;\n",
              "      box-shadow: 0px 1px 3px 1px rgba(0, 0, 0, 0.15);\n",
              "      filter: drop-shadow(0px 1px 2px rgba(0, 0, 0, 0.3));\n",
              "      fill: #FFFFFF;\n",
              "    }\n",
              "  </style>\n",
              "\n",
              "      <script>\n",
              "        const buttonEl =\n",
              "          document.querySelector('#df-7fbda7ff-32c3-40a9-9421-656f4c11022d button.colab-df-convert');\n",
              "        buttonEl.style.display =\n",
              "          google.colab.kernel.accessAllowed ? 'block' : 'none';\n",
              "\n",
              "        async function convertToInteractive(key) {\n",
              "          const element = document.querySelector('#df-7fbda7ff-32c3-40a9-9421-656f4c11022d');\n",
              "          const dataTable =\n",
              "            await google.colab.kernel.invokeFunction('convertToInteractive',\n",
              "                                                     [key], {});\n",
              "          if (!dataTable) return;\n",
              "\n",
              "          const docLinkHtml = 'Like what you see? Visit the ' +\n",
              "            '<a target=\"_blank\" href=https://colab.research.google.com/notebooks/data_table.ipynb>data table notebook</a>'\n",
              "            + ' to learn more about interactive tables.';\n",
              "          element.innerHTML = '';\n",
              "          dataTable['output_type'] = 'display_data';\n",
              "          await google.colab.output.renderOutput(dataTable, element);\n",
              "          const docLink = document.createElement('div');\n",
              "          docLink.innerHTML = docLinkHtml;\n",
              "          element.appendChild(docLink);\n",
              "        }\n",
              "      </script>\n",
              "    </div>\n",
              "  </div>\n",
              "  "
            ]
          },
          "metadata": {},
          "execution_count": 5
        }
      ],
      "source": [
        "df"
      ]
    },
    {
      "cell_type": "code",
      "execution_count": 6,
      "metadata": {
        "colab": {
          "base_uri": "https://localhost:8080/",
          "height": 299
        },
        "id": "2caWAdsntagc",
        "outputId": "7324fba2-f55b-4576-fd60-08ebf48d4b89"
      },
      "outputs": [
        {
          "output_type": "execute_result",
          "data": {
            "text/plain": [
              "<matplotlib.axes._subplots.AxesSubplot at 0x7fb20ffdd450>"
            ]
          },
          "metadata": {},
          "execution_count": 6
        },
        {
          "output_type": "display_data",
          "data": {
            "text/plain": [
              "<Figure size 432x288 with 1 Axes>"
            ],
            "image/png": "[encoded data removed]"
          },
          "metadata": {
            "needs_background": "light"
          }
        }
      ],
      "source": [
        "df['Close'].plot()"
      ]
    },
    {
      "cell_type": "code",
      "execution_count": 7,
      "metadata": {
        "colab": {
          "base_uri": "https://localhost:8080/",
          "height": 297
        },
        "id": "p_uLQ9jftiBJ",
        "outputId": "3cef0d98-ee3b-42e4-8f0d-986ee42ac9e3"
      },
      "outputs": [
        {
          "output_type": "execute_result",
          "data": {
            "text/plain": [
              "<matplotlib.axes._subplots.AxesSubplot at 0x7fb20fa69250>"
            ]
          },
          "metadata": {},
          "execution_count": 7
        },
        {
          "output_type": "display_data",
          "data": {
            "text/plain": [
              "<Figure size 432x288 with 1 Axes>"
            ],
            "image/png": "[encoded data removed]"
          },
          "metadata": {
            "needs_background": "light"
          }
        }
      ],
      "source": [
        "df['log'].plot()"
      ]
    },
    {
      "cell_type": "code",
      "execution_count": 8,
      "metadata": {
        "id": "o7LaE2m8tn6H"
      },
      "outputs": [],
      "source": [
        "y = df['log']\n",
        "X  = df[['Open']]"
      ]
    },
    {
      "cell_type": "code",
      "execution_count": 9,
      "metadata": {
        "id": "2fTF95x4tzDE"
      },
      "outputs": [],
      "source": [
        "#X = X.iloc[837:]\n",
        "#y = y.iloc[837:]"
      ]
    },
    {
      "cell_type": "code",
      "execution_count": 10,
      "metadata": {
        "colab": {
          "base_uri": "https://localhost:8080/"
        },
        "id": "gK0Cqq4OuRmq",
        "outputId": "a9e57df6-cee3-489c-fec5-22e34ef6c43e"
      },
      "outputs": [
        {
          "output_type": "execute_result",
          "data": {
            "text/plain": [
              "Date\n",
              "2017-01-01    6.906079\n",
              "2017-01-02    6.929272\n",
              "2017-01-03    6.950661\n",
              "2017-01-04    7.051622\n",
              "2017-01-05    6.921047\n",
              "                ...   \n",
              "2022-08-19    9.946430\n",
              "2022-08-20    9.960154\n",
              "2022-08-21    9.977394\n",
              "2022-08-22    9.971095\n",
              "2022-08-23    9.956599\n",
              "Name: log, Length: 2061, dtype: float64"
            ]
          },
          "metadata": {},
          "execution_count": 10
        }
      ],
      "source": [
        "y"
      ]
    },
    {
      "cell_type": "code",
      "execution_count": 11,
      "metadata": {
        "colab": {
          "base_uri": "https://localhost:8080/",
          "height": 237
        },
        "id": "dPmjx9sluSSg",
        "outputId": "09e3714f-719f-4bbe-af1e-ed08d6a9389c"
      },
      "outputs": [
        {
          "output_type": "execute_result",
          "data": {
            "text/plain": [
              "                   Open\n",
              "Date                   \n",
              "2017-01-01   963.658020\n",
              "2017-01-02   998.617004\n",
              "2017-01-03  1021.599976\n",
              "2017-01-04  1044.400024\n",
              "2017-01-05  1156.729980"
            ],
            "text/html": [
              "\n",
              "  <div id=\"df-14b1ce2b-409a-4554-b0e2-55579ab5d75b\">\n",
              "    <div class=\"colab-df-container\">\n",
              "      <div>\n",
              "<style scoped>\n",
              "    .dataframe tbody tr th:only-of-type {\n",
              "        vertical-align: middle;\n",
              "    }\n",
              "\n",
              "    .dataframe tbody tr th {\n",
              "        vertical-align: top;\n",
              "    }\n",
              "\n",
              "    .dataframe thead th {\n",
              "        text-align: right;\n",
              "    }\n",
              "</style>\n",
              "<table border=\"1\" class=\"dataframe\">\n",
              "  <thead>\n",
              "    <tr style=\"text-align: right;\">\n",
              "      <th></th>\n",
              "      <th>Open</th>\n",
              "    </tr>\n",
              "    <tr>\n",
              "      <th>Date</th>\n",
              "      <th></th>\n",
              "    </tr>\n",
              "  </thead>\n",
              "  <tbody>\n",
              "    <tr>\n",
              "      <th>2017-01-01</th>\n",
              "      <td>963.658020</td>\n",
              "    </tr>\n",
              "    <tr>\n",
              "      <th>2017-01-02</th>\n",
              "      <td>998.617004</td>\n",
              "    </tr>\n",
              "    <tr>\n",
              "      <th>2017-01-03</th>\n",
              "      <td>1021.599976</td>\n",
              "    </tr>\n",
              "    <tr>\n",
              "      <th>2017-01-04</th>\n",
              "      <td>1044.400024</td>\n",
              "    </tr>\n",
              "    <tr>\n",
              "      <th>2017-01-05</th>\n",
              "      <td>1156.729980</td>\n",
              "    </tr>\n",
              "  </tbody>\n",
              "</table>\n",
              "</div>\n",
              "      <button class=\"colab-df-convert\" onclick=\"convertToInteractive('df-14b1ce2b-409a-4554-b0e2-55579ab5d75b')\"\n",
              "              title=\"Convert this dataframe to an interactive table.\"\n",
              "              style=\"display:none;\">\n",
              "        \n",
              "  <svg xmlns=\"http://www.w3.org/2000/svg\" height=\"24px\"viewBox=\"0 0 24 24\"\n",
              "       width=\"24px\">\n",
              "    <path d=\"M0 0h24v24H0V0z\" fill=\"none\"/>\n",
              "    <path d=\"M18.56 5.44l.94 2.06.94-2.06 2.06-.94-2.06-.94-.94-2.06-.94 2.06-2.06.94zm-11 1L8.5 8.5l.94-2.06 2.06-.94-2.06-.94L8.5 2.5l-.94 2.06-2.06.94zm10 10l.94 2.06.94-2.06 2.06-.94-2.06-.94-.94-2.06-.94 2.06-2.06.94z\"/><path d=\"M17.41 7.96l-1.37-1.37c-.4-.4-.92-.59-1.43-.59-.52 0-1.04.2-1.43.59L10.3 9.45l-7.72 7.72c-.78.78-.78 2.05 0 2.83L4 21.41c.39.39.9.59 1.41.59.51 0 1.02-.2 1.41-.59l7.78-7.78 2.81-2.81c.8-.78.8-2.07 0-2.86zM5.41 20L4 18.59l7.72-7.72 1.47 1.35L5.41 20z\"/>\n",
              "  </svg>\n",
              "      </button>\n",
              "      \n",
              "  <style>\n",
              "    .colab-df-container {\n",
              "      display:flex;\n",
              "      flex-wrap:wrap;\n",
              "      gap: 12px;\n",
              "    }\n",
              "\n",
              "    .colab-df-convert {\n",
              "      background-color: #E8F0FE;\n",
              "      border: none;\n",
              "      border-radius: 50%;\n",
              "      cursor: pointer;\n",
              "      display: none;\n",
              "      fill: #1967D2;\n",
              "      height: 32px;\n",
              "      padding: 0 0 0 0;\n",
              "      width: 32px;\n",
              "    }\n",
              "\n",
              "    .colab-df-convert:hover {\n",
              "      background-color: #E2EBFA;\n",
              "      box-shadow: 0px 1px 2px rgba(60, 64, 67, 0.3), 0px 1px 3px 1px rgba(60, 64, 67, 0.15);\n",
              "      fill: #174EA6;\n",
              "    }\n",
              "\n",
              "    [theme=dark] .colab-df-convert {\n",
              "      background-color: #3B4455;\n",
              "      fill: #D2E3FC;\n",
              "    }\n",
              "\n",
              "    [theme=dark] .colab-df-convert:hover {\n",
              "      background-color: #434B5C;\n",
              "      box-shadow: 0px 1px 3px 1px rgba(0, 0, 0, 0.15);\n",
              "      filter: drop-shadow(0px 1px 2px rgba(0, 0, 0, 0.3));\n",
              "      fill: #FFFFFF;\n",
              "    }\n",
              "  </style>\n",
              "\n",
              "      <script>\n",
              "        const buttonEl =\n",
              "          document.querySelector('#df-14b1ce2b-409a-4554-b0e2-55579ab5d75b button.colab-df-convert');\n",
              "        buttonEl.style.display =\n",
              "          google.colab.kernel.accessAllowed ? 'block' : 'none';\n",
              "\n",
              "        async function convertToInteractive(key) {\n",
              "          const element = document.querySelector('#df-14b1ce2b-409a-4554-b0e2-55579ab5d75b');\n",
              "          const dataTable =\n",
              "            await google.colab.kernel.invokeFunction('convertToInteractive',\n",
              "                                                     [key], {});\n",
              "          if (!dataTable) return;\n",
              "\n",
              "          const docLinkHtml = 'Like what you see? Visit the ' +\n",
              "            '<a target=\"_blank\" href=https://colab.research.google.com/notebooks/data_table.ipynb>data table notebook</a>'\n",
              "            + ' to learn more about interactive tables.';\n",
              "          element.innerHTML = '';\n",
              "          dataTable['output_type'] = 'display_data';\n",
              "          await google.colab.output.renderOutput(dataTable, element);\n",
              "          const docLink = document.createElement('div');\n",
              "          docLink.innerHTML = docLinkHtml;\n",
              "          element.appendChild(docLink);\n",
              "        }\n",
              "      </script>\n",
              "    </div>\n",
              "  </div>\n",
              "  "
            ]
          },
          "metadata": {},
          "execution_count": 11
        }
      ],
      "source": [
        "X.head()"
      ]
    },
    {
      "cell_type": "markdown",
      "metadata": {
        "id": "2SyBhxbMukK9"
      },
      "source": [
        "#Split Data"
      ]
    },
    {
      "cell_type": "code",
      "execution_count": 12,
      "metadata": {
        "id": "u3aI_QdzubqG"
      },
      "outputs": [],
      "source": [
        "#train_test_split = int(X.shape[0] * 0.95)\n",
        "#X_train = X[:train_test_split]\n",
        "#X_test = X[train_test_split:]\n",
        "\n",
        "#y_train = y[:train_test_split]\n",
        "#y_test = y[train_test_split:]\n",
        "\n",
        "#X_train.shape, X_test.shape, y_train.shape, y_test.shape"
      ]
    },
    {
      "cell_type": "markdown",
      "metadata": {
        "id": "Goz68Esixtza"
      },
      "source": [
        "#Scaled Data"
      ]
    },
    {
      "cell_type": "code",
      "execution_count": 13,
      "metadata": {
        "id": "ng5H3mBPxc-6"
      },
      "outputs": [],
      "source": [
        "#scaler = RobustScaler()\n",
        "#X_train_scaled = scaler.fit_transform(X_train)\n",
        "#X_test_scaled = scaler.transform(X_test)"
      ]
    },
    {
      "cell_type": "markdown",
      "metadata": {
        "id": "sWowentVxy4Z"
      },
      "source": [
        "#Make Sequence"
      ]
    },
    {
      "cell_type": "code",
      "execution_count": 14,
      "metadata": {
        "id": "gAjc3kM4xxTT"
      },
      "outputs": [],
      "source": [
        "#def make_sequence(X,y,sequence_length):\n",
        "  #X_tensor = []\n",
        "  #y_tensor = []\n",
        "  #for index in range(sequence_length,X.shape[0]):\n",
        "    #X_tensor.append(X[index-sequence_length:index])\n",
        "  # y_tensor.append(y.iloc[index-180:index].to_numpy())\n",
        "    #y_tensor.append([y[index]])\n",
        "  #X_tensor = np.array(X_tensor)\n",
        "  #y_tensor = np.array(y_tensor)\n",
        "\n",
        "  #return X_tensor, y_tensor\n",
        "\n",
        "#X_tensor_train, y_tensor_train = make_sequence(X_train_scaled,y_train,99)\n",
        "#X_tensor_test, y_tensor_test = make_sequence(X_test_scaled,y_test,99)"
      ]
    },
    {
      "cell_type": "code",
      "execution_count": 15,
      "metadata": {
        "id": "sdHmY21Cx8oA"
      },
      "outputs": [],
      "source": [
        "#X_tensor_train.shape, y_tensor_train.shape, X_tensor_test.shape, y_tensor_test.shape"
      ]
    },
    {
      "cell_type": "markdown",
      "metadata": {
        "id": "EmVrPY-FJsSu"
      },
      "source": [
        "#New Scale"
      ]
    },
    {
      "cell_type": "code",
      "execution_count": 16,
      "metadata": {
        "colab": {
          "base_uri": "https://localhost:8080/"
        },
        "id": "8Vkyu575JeDx",
        "outputId": "a885def1-0794-41f5-8461-be6f8c7e2485"
      },
      "outputs": [
        {
          "output_type": "execute_result",
          "data": {
            "text/plain": [
              "(2061, 1)"
            ]
          },
          "metadata": {},
          "execution_count": 16
        }
      ],
      "source": [
        "scaler = MinMaxScaler()\n",
        "scaled_close = scaler.fit_transform(df[['Close']])\n",
        "scaled_close.shape\n"
      ]
    },
    {
      "cell_type": "markdown",
      "metadata": {
        "id": "sDA-KmZNKpJy"
      },
      "source": [
        "#Reshape"
      ]
    },
    {
      "cell_type": "code",
      "execution_count": 17,
      "metadata": {
        "colab": {
          "base_uri": "https://localhost:8080/"
        },
        "id": "Cyq0HwlwKgIR",
        "outputId": "f20ad7fb-88ad-4747-ba76-f8b8b3c3f9d2"
      },
      "outputs": [
        {
          "output_type": "execute_result",
          "data": {
            "text/plain": [
              "(2061, 1)"
            ]
          },
          "metadata": {},
          "execution_count": 17
        }
      ],
      "source": [
        "scaled_close = scaled_close[~np.isnan(scaled_close)]\n",
        "scaled_close =  scaled_close.reshape(-1,1)\n",
        "scaled_close.shape"
      ]
    },
    {
      "cell_type": "markdown",
      "metadata": {
        "id": "DJDljG0CLZD9"
      },
      "source": [
        "# New Make Sequence"
      ]
    },
    {
      "cell_type": "code",
      "execution_count": 18,
      "metadata": {
        "id": "0_SUBxYULYJi"
      },
      "outputs": [],
      "source": [
        "SEQ_LEN = 100\n",
        "\n",
        "def to_sequences(data, seq_len):\n",
        "  d = []\n",
        "\n",
        "  for index in range(len(data) - seq_len):\n",
        "    d.append(data[index: index + seq_len])\n",
        "\n",
        "  return np.array(d)\n",
        "\n",
        "def preprocess(data_raw, seq_len, train_split):\n",
        "\n",
        "  data = to_sequences(data_raw, seq_len)\n",
        "  num_train = int(train_split * data.shape[0])\n",
        "  X_train = data[:num_train, :-1, :]\n",
        "  y_train = data[:num_train, -1, :]\n",
        "\n",
        "  X_test = data[num_train:, :-1, :]\n",
        "  y_test = data[num_train:, -1, :]\n",
        "\n",
        "  return X_train, y_train, X_test, y_test\n",
        "\n",
        "\n",
        "X_train, y_train, X_test, y_test = preprocess(scaled_close, SEQ_LEN, train_split = 0.95)\n",
        "\n"
      ]
    },
    {
      "cell_type": "code",
      "execution_count": 19,
      "metadata": {
        "colab": {
          "base_uri": "https://localhost:8080/"
        },
        "id": "OK6GujCDNyFV",
        "outputId": "c80b7b5e-c7fa-4fd5-8d2b-747a3035edb4"
      },
      "outputs": [
        {
          "output_type": "execute_result",
          "data": {
            "text/plain": [
              "((1862, 99, 1), (99, 99, 1))"
            ]
          },
          "metadata": {},
          "execution_count": 19
        }
      ],
      "source": [
        "X_train.shape, X_test.shape"
      ]
    },
    {
      "cell_type": "code",
      "execution_count": 20,
      "metadata": {
        "colab": {
          "base_uri": "https://localhost:8080/"
        },
        "id": "7lcO_FbWzDn5",
        "outputId": "8340c608-48b5-4efb-ae01-6d68738ecd68"
      },
      "outputs": [
        {
          "output_type": "execute_result",
          "data": {
            "text/plain": [
              "array([[0.00612934],\n",
              "       [0.00639705],\n",
              "       [0.00632758],\n",
              "       ...,\n",
              "       [0.42679657],\n",
              "       [0.43904651],\n",
              "       [0.45707113]])"
            ]
          },
          "metadata": {},
          "execution_count": 20
        }
      ],
      "source": [
        "y_train[:]"
      ]
    },
    {
      "cell_type": "code",
      "execution_count": 21,
      "metadata": {
        "colab": {
          "base_uri": "https://localhost:8080/"
        },
        "id": "pgZziNGQzJg6",
        "outputId": "2f236579-340e-4db9-caca-585ff5f1ef8b"
      },
      "outputs": [
        {
          "output_type": "execute_result",
          "data": {
            "text/plain": [
              "(1862, 1)"
            ]
          },
          "metadata": {},
          "execution_count": 21
        }
      ],
      "source": [
        "y_train.shape"
      ]
    },
    {
      "cell_type": "markdown",
      "metadata": {
        "id": "UKIITHEQyIro"
      },
      "source": [
        "#Neural Network"
      ]
    },
    {
      "cell_type": "code",
      "execution_count": 22,
      "metadata": {
        "id": "ziWakzXHyArJ"
      },
      "outputs": [],
      "source": [
        "model = Sequential()\n",
        "#input_dim= (X_train.shape[1],X_train.shape[-1])\n",
        "\n",
        "model.add(layers.SimpleRNN(10, input_shape=(X_train.shape[1], X_train.shape[-1]),activation='tanh'))\n",
        "\n",
        "model.add(layers.Dense(15, activation='relu'))\n",
        "model.add(layers.Dropout(rate=0.2)) \n",
        "\n",
        "model.add(layers.Dense(8, activation='relu'))\n",
        "model.add(layers.Dropout(rate=0.2)) \n",
        "\n",
        "\n",
        "model.add(layers.Dense(1, activation='linear'))"
      ]
    },
    {
      "cell_type": "code",
      "execution_count": 23,
      "metadata": {
        "colab": {
          "base_uri": "https://localhost:8080/"
        },
        "id": "mQrb6mJFyPSq",
        "outputId": "a58705c1-e07a-42d9-99ef-6fd4b9256bfd"
      },
      "outputs": [
        {
          "output_type": "execute_result",
          "data": {
            "text/plain": [
              "99"
            ]
          },
          "metadata": {},
          "execution_count": 23
        }
      ],
      "source": [
        "X_train.shape[1]"
      ]
    },
    {
      "cell_type": "code",
      "execution_count": 24,
      "metadata": {
        "colab": {
          "base_uri": "https://localhost:8080/"
        },
        "id": "EUQXytxl0lVL",
        "outputId": "5899d24d-bc2e-4780-b995-bf7f53ff869c"
      },
      "outputs": [
        {
          "output_type": "execute_result",
          "data": {
            "text/plain": [
              "array([0.00612934])"
            ]
          },
          "metadata": {},
          "execution_count": 24
        }
      ],
      "source": [
        "y_train[0]"
      ]
    },
    {
      "cell_type": "code",
      "execution_count": 25,
      "metadata": {
        "colab": {
          "base_uri": "https://localhost:8080/"
        },
        "id": "qy8kjKbHylpj",
        "outputId": "61dc7382-dc68-4e28-8b5f-c4950c940874"
      },
      "outputs": [
        {
          "output_type": "stream",
          "name": "stdout",
          "text": [
            "Model: \"sequential\"\n",
            "_________________________________________________________________\n",
            " Layer (type)                Output Shape              Param #   \n",
            "=================================================================\n",
            " simple_rnn (SimpleRNN)      (None, 10)                120       \n",
            "                                                                 \n",
            " dense (Dense)               (None, 15)                165       \n",
            "                                                                 \n",
            " dropout (Dropout)           (None, 15)                0         \n",
            "                                                                 \n",
            " dense_1 (Dense)             (None, 8)                 128       \n",
            "                                                                 \n",
            " dropout_1 (Dropout)         (None, 8)                 0         \n",
            "                                                                 \n",
            " dense_2 (Dense)             (None, 1)                 9         \n",
            "                                                                 \n",
            "=================================================================\n",
            "Total params: 422\n",
            "Trainable params: 422\n",
            "Non-trainable params: 0\n",
            "_________________________________________________________________\n"
          ]
        }
      ],
      "source": [
        "model.summary()"
      ]
    },
    {
      "cell_type": "code",
      "execution_count": 26,
      "metadata": {
        "colab": {
          "base_uri": "https://localhost:8080/"
        },
        "id": "A1AXAllYypwE",
        "outputId": "093c2fb3-0d82-4714-cd47-c4fe2cc81453"
      },
      "outputs": [
        {
          "output_type": "stream",
          "name": "stdout",
          "text": [
            "Epoch 1/500\n",
            "105/105 [==============================] - 5s 24ms/step - loss: 0.0309 - mae: 0.0928 - mape: 57.8891 - val_loss: 0.0029 - val_mae: 0.0446 - val_mape: 6.6883\n",
            "Epoch 2/500\n",
            "105/105 [==============================] - 2s 19ms/step - loss: 0.0101 - mae: 0.0500 - mape: 39.4726 - val_loss: 0.0020 - val_mae: 0.0345 - val_mape: 5.0330\n",
            "Epoch 3/500\n",
            "105/105 [==============================] - 2s 19ms/step - loss: 0.0086 - mae: 0.0485 - mape: 43.9434 - val_loss: 0.0036 - val_mae: 0.0529 - val_mape: 8.7436\n",
            "Epoch 4/500\n",
            "105/105 [==============================] - 2s 16ms/step - loss: 0.0076 - mae: 0.0461 - mape: 44.2112 - val_loss: 0.0188 - val_mae: 0.1330 - val_mape: 20.4746\n",
            "Epoch 5/500\n",
            "105/105 [==============================] - 1s 8ms/step - loss: 0.0071 - mae: 0.0460 - mape: 44.9726 - val_loss: 0.0115 - val_mae: 0.1013 - val_mape: 15.3192\n",
            "Epoch 6/500\n",
            "105/105 [==============================] - 1s 9ms/step - loss: 0.0073 - mae: 0.0460 - mape: 42.2902 - val_loss: 0.0121 - val_mae: 0.1045 - val_mape: 15.8644\n",
            "Epoch 7/500\n",
            "105/105 [==============================] - 1s 9ms/step - loss: 0.0064 - mae: 0.0441 - mape: 44.4907 - val_loss: 0.0042 - val_mae: 0.0576 - val_mape: 8.6093\n",
            "Epoch 8/500\n",
            "105/105 [==============================] - 1s 9ms/step - loss: 0.0066 - mae: 0.0444 - mape: 48.1819 - val_loss: 0.0114 - val_mae: 0.1017 - val_mape: 15.4550\n",
            "Epoch 9/500\n",
            "105/105 [==============================] - 1s 9ms/step - loss: 0.0065 - mae: 0.0429 - mape: 42.4043 - val_loss: 0.0013 - val_mae: 0.0297 - val_mape: 4.8448\n",
            "Epoch 10/500\n",
            "105/105 [==============================] - 1s 8ms/step - loss: 0.0064 - mae: 0.0439 - mape: 45.0211 - val_loss: 0.0043 - val_mae: 0.0585 - val_mape: 8.7507\n",
            "Epoch 11/500\n",
            "105/105 [==============================] - 1s 8ms/step - loss: 0.0056 - mae: 0.0410 - mape: 37.0450 - val_loss: 0.0089 - val_mae: 0.0874 - val_mape: 13.1236\n",
            "Epoch 12/500\n",
            "105/105 [==============================] - 1s 8ms/step - loss: 0.0062 - mae: 0.0420 - mape: 45.9731 - val_loss: 0.0023 - val_mae: 0.0392 - val_mape: 5.7623\n",
            "Epoch 13/500\n",
            "105/105 [==============================] - 1s 9ms/step - loss: 0.0048 - mae: 0.0389 - mape: 41.2381 - val_loss: 0.0034 - val_mae: 0.0523 - val_mape: 7.9350\n",
            "Epoch 14/500\n",
            "105/105 [==============================] - 1s 9ms/step - loss: 0.0048 - mae: 0.0377 - mape: 40.1192 - val_loss: 0.0114 - val_mae: 0.0994 - val_mape: 14.9189\n",
            "Epoch 15/500\n",
            "105/105 [==============================] - 1s 9ms/step - loss: 0.0051 - mae: 0.0380 - mape: 36.8612 - val_loss: 0.0065 - val_mae: 0.0732 - val_mape: 10.9405\n",
            "Epoch 16/500\n",
            "105/105 [==============================] - 1s 9ms/step - loss: 0.0054 - mae: 0.0388 - mape: 39.1600 - val_loss: 0.0042 - val_mae: 0.0570 - val_mape: 8.4838\n",
            "Epoch 17/500\n",
            "105/105 [==============================] - 1s 9ms/step - loss: 0.0050 - mae: 0.0382 - mape: 37.9315 - val_loss: 0.0104 - val_mae: 0.0945 - val_mape: 14.1380\n",
            "Epoch 18/500\n",
            "105/105 [==============================] - 1s 9ms/step - loss: 0.0048 - mae: 0.0392 - mape: 37.9244 - val_loss: 0.0050 - val_mae: 0.0640 - val_mape: 9.6202\n",
            "Epoch 19/500\n",
            "105/105 [==============================] - 1s 9ms/step - loss: 0.0048 - mae: 0.0387 - mape: 40.7626 - val_loss: 0.0041 - val_mae: 0.0568 - val_mape: 8.4829\n"
          ]
        }
      ],
      "source": [
        "rmsprop_opt = optimizers.RMSprop(learning_rate=0.001)\n",
        "\n",
        "es = EarlyStopping(monitor='val_loss',patience=10, restore_best_weights=True)\n",
        "\n",
        "#mean_absolute_error'\n",
        "#rmsprop_opt\n",
        "\n",
        "model.compile(loss='mean_squared_error', optimizer=rmsprop_opt, metrics=['mae','mape'])\n",
        "history = model.fit(X_train,\n",
        "                    y_train, \n",
        "                    batch_size=16, \n",
        "                    epochs=500, \n",
        "                    validation_split=0.1,\n",
        "                    callbacks=[es])"
      ]
    },
    {
      "cell_type": "code",
      "execution_count": 27,
      "metadata": {
        "id": "jBDhNtk_y91r"
      },
      "outputs": [],
      "source": [
        "def plot_loss_accuracy(history, title=None):\n",
        "    fig, ax = plt.subplots(1,2, figsize=(20,7))\n",
        "    \n",
        "    # --- LOSS --- \n",
        "    \n",
        "    ax[0].plot(history.history['loss'])\n",
        "    ax[0].plot(history.history['val_loss'])\n",
        "    ax[0].set_title('Model loss')\n",
        "    ax[0].set_ylabel('Loss')\n",
        "    ax[0].set_xlabel('Epoch')\n",
        "    #ax[0].set_ylim((0,3))\n",
        "    ax[0].legend(['Train', 'Test'], loc='best')\n",
        "    ax[0].grid(axis=\"x\",linewidth=0.5)\n",
        "    ax[0].grid(axis=\"y\",linewidth=0.5)\n",
        "    \n",
        "    # --- ACCURACY\n",
        "    \n",
        "    ax[1].plot(history.history['mae'])\n",
        "    ax[1].plot(history.history['val_mae'])\n",
        "    ax[1].set_title('Model mae')\n",
        "    ax[1].set_ylabel('mae')\n",
        "    ax[1].set_xlabel('Epoch')\n",
        "    ax[1].legend(['Train', 'Test'], loc='best')\n",
        "    #ax[1].set_ylim((0,1))\n",
        "    ax[1].grid(axis=\"x\",linewidth=0.5)\n",
        "    ax[1].grid(axis=\"y\",linewidth=0.5)\n",
        "    \n",
        "    if title:\n",
        "        fig.suptitle(title)"
      ]
    },
    {
      "cell_type": "code",
      "execution_count": 28,
      "metadata": {
        "colab": {
          "base_uri": "https://localhost:8080/",
          "height": 404
        },
        "id": "avF9L9ttzjwo",
        "outputId": "f3a89dd0-e008-4be9-de95-dc33289925b1"
      },
      "outputs": [
        {
          "output_type": "display_data",
          "data": {
            "text/plain": [
              "<Figure size 1440x504 with 2 Axes>"
            ],
            "image/png": "[encoded data removed]"
          },
          "metadata": {
            "needs_background": "light"
          }
        }
      ],
      "source": [
        "plot_loss_accuracy(history)"
      ]
    },
    {
      "cell_type": "code",
      "execution_count": 29,
      "metadata": {
        "colab": {
          "base_uri": "https://localhost:8080/"
        },
        "id": "hVjUBg-z9c7y",
        "outputId": "edf48bfd-2f1a-4988-bcac-edd9acc91037"
      },
      "outputs": [
        {
          "output_type": "stream",
          "name": "stdout",
          "text": [
            "4/4 [==============================] - 0s 5ms/step - loss: 0.0019 - mae: 0.0376 - mape: 11.0682\n"
          ]
        }
      ],
      "source": [
        "testPredict = model.evaluate(X_test, y_test)"
      ]
    },
    {
      "cell_type": "code",
      "execution_count": 30,
      "metadata": {
        "colab": {
          "base_uri": "https://localhost:8080/"
        },
        "id": "j7NE1_Z99lyZ",
        "outputId": "1b45bffb-7b71-4897-e555-ab244b0b5119"
      },
      "outputs": [
        {
          "output_type": "stream",
          "name": "stdout",
          "text": [
            "59/59 [==============================] - 0s 3ms/step - loss: 8.9037e-04 - mae: 0.0233 - mape: 38.4039\n"
          ]
        },
        {
          "output_type": "execute_result",
          "data": {
            "text/plain": [
              "[0.000890372961293906, 0.023328103125095367, 38.403892517089844]"
            ]
          },
          "metadata": {},
          "execution_count": 30
        }
      ],
      "source": [
        "model.evaluate(X_train, y_train)"
      ]
    },
    {
      "cell_type": "code",
      "execution_count": 31,
      "metadata": {
        "id": "CEb7u3bm9tWc"
      },
      "outputs": [],
      "source": [
        "y_pred = model.predict(X_test)"
      ]
    },
    {
      "cell_type": "code",
      "execution_count": 32,
      "metadata": {
        "colab": {
          "base_uri": "https://localhost:8080/",
          "height": 283
        },
        "id": "zojU1htM9zP7",
        "outputId": "505d19dc-c600-4932-d2dd-4ef9bcc53274"
      },
      "outputs": [
        {
          "output_type": "execute_result",
          "data": {
            "text/plain": [
              "<matplotlib.legend.Legend at 0x7fb20b117a90>"
            ]
          },
          "metadata": {},
          "execution_count": 32
        },
        {
          "output_type": "display_data",
          "data": {
            "text/plain": [
              "<Figure size 432x288 with 1 Axes>"
            ],
            "image/png": "[encoded data removed]"
          },
          "metadata": {
            "needs_background": "light"
          }
        }
      ],
      "source": [
        "plt.plot(y_pred, label='Prediction')\n",
        "plt.plot(y_test, label='Actual')\n",
        "plt.legend()"
      ]
    },
    {
      "cell_type": "code",
      "execution_count": 33,
      "metadata": {
        "id": "6hfg6WvT92he"
      },
      "outputs": [],
      "source": [
        "y_hat = scaler.inverse_transform(y_pred)\n",
        "y_test_inverse = scaler.inverse_transform(y_test)"
      ]
    },
    {
      "cell_type": "code",
      "execution_count": 34,
      "metadata": {
        "colab": {
          "base_uri": "https://localhost:8080/",
          "height": 315
        },
        "id": "qGSkQ8FKR4By",
        "outputId": "7214cec0-623d-48b7-c545-d6bd2d840b11"
      },
      "outputs": [
        {
          "output_type": "execute_result",
          "data": {
            "text/plain": [
              "<matplotlib.legend.Legend at 0x7fb20b95eb50>"
            ]
          },
          "metadata": {},
          "execution_count": 34
        },
        {
          "output_type": "display_data",
          "data": {
            "text/plain": [
              "<Figure size 1600x400 with 1 Axes>"
            ],
            "image/png": "[encoded data removed]"
          },
          "metadata": {
            "needs_background": "light"
          }
        }
      ],
      "source": [
        "from matplotlib.pyplot import figure\n",
        "figure(figsize=(20, 5), dpi=80)\n",
        "plt.grid(True)\n",
        "plt.title('Prediction Bitcoin')\n",
        "plt.plot(y_hat, label='Prediction')\n",
        "plt.plot(y_test_inverse, label='Actual')\n",
        "plt.legend()"
      ]
    },
    {
      "cell_type": "code",
      "execution_count": 35,
      "metadata": {
        "colab": {
          "base_uri": "https://localhost:8080/",
          "height": 297
        },
        "id": "0UpVAFY8OMbC",
        "outputId": "0c661484-df29-4a90-f27a-670e018e287a"
      },
      "outputs": [
        {
          "output_type": "execute_result",
          "data": {
            "text/plain": [
              "<matplotlib.axes._subplots.AxesSubplot at 0x7fb20b9d7590>"
            ]
          },
          "metadata": {},
          "execution_count": 35
        },
        {
          "output_type": "display_data",
          "data": {
            "text/plain": [
              "<Figure size 432x288 with 1 Axes>"
            ],
            "image/png": "[encoded data removed]"
          },
          "metadata": {
            "needs_background": "light"
          }
        }
      ],
      "source": [
        "df['Close'][-100:].plot()"
      ]
    },
    {
      "cell_type": "code",
      "execution_count": 36,
      "metadata": {
        "colab": {
          "base_uri": "https://localhost:8080/"
        },
        "id": "CpKHuI1MSaf0",
        "outputId": "4dee0cd7-939f-4804-b482-81863ceaf715"
      },
      "outputs": [
        {
          "output_type": "stream",
          "name": "stderr",
          "text": [
            "WARNING:tensorflow:Model was constructed with shape (None, 99, 1) for input KerasTensor(type_spec=TensorSpec(shape=(None, 99, 1), dtype=tf.float32, name='simple_rnn_input'), name='simple_rnn_input', description=\"created by layer 'simple_rnn_input'\"), but it was called on an input with incompatible shape (None, 1, 1).\n"
          ]
        }
      ],
      "source": [
        "#SEQ_LEN = 100\n",
        "last_sequence = X_test[-1:]\n",
        "last = model.predict(last_sequence.reshape(-1,1))"
      ]
    },
    {
      "cell_type": "code",
      "execution_count": 37,
      "metadata": {
        "id": "zqXd-MifxKkQ"
      },
      "outputs": [],
      "source": [
        "last_value = scaler.inverse_transform(last)"
      ]
    },
    {
      "cell_type": "code",
      "execution_count": 38,
      "metadata": {
        "colab": {
          "base_uri": "https://localhost:8080/"
        },
        "id": "i6RVLvHyxUsT",
        "outputId": "82052656-f437-4060-cfc7-cdf33ddda18a"
      },
      "outputs": [
        {
          "output_type": "execute_result",
          "data": {
            "text/plain": [
              "array([20356.152], dtype=float32)"
            ]
          },
          "metadata": {},
          "execution_count": 38
        }
      ],
      "source": [
        "last_value[-1]"
      ]
    },
    {
      "cell_type": "code",
      "execution_count": 39,
      "metadata": {
        "colab": {
          "base_uri": "https://localhost:8080/"
        },
        "id": "ae0hCbD6xpEW",
        "outputId": "f17c3bf5-9030-448a-8dd8-d77138e4c03c"
      },
      "outputs": [
        {
          "output_type": "execute_result",
          "data": {
            "text/plain": [
              "array([21398.90820312])"
            ]
          },
          "metadata": {},
          "execution_count": 39
        }
      ],
      "source": [
        "y_test_inverse[-1]"
      ]
    },
    {
      "cell_type": "code",
      "execution_count": 40,
      "metadata": {
        "colab": {
          "base_uri": "https://localhost:8080/",
          "height": 301
        },
        "id": "kaVFsQ9YQMwd",
        "outputId": "1751679b-5c7b-4472-9693-82f34830340f"
      },
      "outputs": [
        {
          "output_type": "execute_result",
          "data": {
            "text/plain": [
              "<matplotlib.legend.Legend at 0x7fb20b7d29d0>"
            ]
          },
          "metadata": {},
          "execution_count": 40
        },
        {
          "output_type": "display_data",
          "data": {
            "text/plain": [
              "<Figure size 1600x400 with 1 Axes>"
            ],
            "image/png": "[encoded data removed]"
          },
          "metadata": {
            "needs_background": "light"
          }
        }
      ],
      "source": [
        "from matplotlib.pyplot import figure\n",
        "figure(figsize=(20, 5), dpi=80)\n",
        "plt.grid(True)\n",
        "last_value = pd.DataFrame(last_value)\n",
        "plt.plot(last_value, label='Prediction')\n",
        "plt.plot(df['Close'][-100:], label='Predict Next day')\n",
        "plt.legend()"
      ]
    },
    {
      "cell_type": "code",
      "execution_count": 41,
      "metadata": {
        "colab": {
          "base_uri": "https://localhost:8080/",
          "height": 423
        },
        "id": "Kfk-JIhKS2A3",
        "outputId": "bea34b27-6a9f-4d88-f1f5-fd7dcea8e023"
      },
      "outputs": [
        {
          "output_type": "execute_result",
          "data": {
            "text/plain": [
              "               0\n",
              "0   23985.167969\n",
              "1   23410.841797\n",
              "2   23631.015625\n",
              "3   22962.962891\n",
              "4   23587.425781\n",
              "..           ...\n",
              "94  20918.435547\n",
              "95  20880.037109\n",
              "96  20150.804688\n",
              "97  20241.068359\n",
              "98  20356.152344\n",
              "\n",
              "[99 rows x 1 columns]"
            ],
            "text/html": [
              "\n",
              "  <div id=\"df-4f2a850c-f089-4843-8281-6c2e7960ae8d\">\n",
              "    <div class=\"colab-df-container\">\n",
              "      <div>\n",
              "<style scoped>\n",
              "    .dataframe tbody tr th:only-of-type {\n",
              "        vertical-align: middle;\n",
              "    }\n",
              "\n",
              "    .dataframe tbody tr th {\n",
              "        vertical-align: top;\n",
              "    }\n",
              "\n",
              "    .dataframe thead th {\n",
              "        text-align: right;\n",
              "    }\n",
              "</style>\n",
              "<table border=\"1\" class=\"dataframe\">\n",
              "  <thead>\n",
              "    <tr style=\"text-align: right;\">\n",
              "      <th></th>\n",
              "      <th>0</th>\n",
              "    </tr>\n",
              "  </thead>\n",
              "  <tbody>\n",
              "    <tr>\n",
              "      <th>0</th>\n",
              "      <td>23985.167969</td>\n",
              "    </tr>\n",
              "    <tr>\n",
              "      <th>1</th>\n",
              "      <td>23410.841797</td>\n",
              "    </tr>\n",
              "    <tr>\n",
              "      <th>2</th>\n",
              "      <td>23631.015625</td>\n",
              "    </tr>\n",
              "    <tr>\n",
              "      <th>3</th>\n",
              "      <td>22962.962891</td>\n",
              "    </tr>\n",
              "    <tr>\n",
              "      <th>4</th>\n",
              "      <td>23587.425781</td>\n",
              "    </tr>\n",
              "    <tr>\n",
              "      <th>...</th>\n",
              "      <td>...</td>\n",
              "    </tr>\n",
              "    <tr>\n",
              "      <th>94</th>\n",
              "      <td>20918.435547</td>\n",
              "    </tr>\n",
              "    <tr>\n",
              "      <th>95</th>\n",
              "      <td>20880.037109</td>\n",
              "    </tr>\n",
              "    <tr>\n",
              "      <th>96</th>\n",
              "      <td>20150.804688</td>\n",
              "    </tr>\n",
              "    <tr>\n",
              "      <th>97</th>\n",
              "      <td>20241.068359</td>\n",
              "    </tr>\n",
              "    <tr>\n",
              "      <th>98</th>\n",
              "      <td>20356.152344</td>\n",
              "    </tr>\n",
              "  </tbody>\n",
              "</table>\n",
              "<p>99 rows × 1 columns</p>\n",
              "</div>\n",
              "      <button class=\"colab-df-convert\" onclick=\"convertToInteractive('df-4f2a850c-f089-4843-8281-6c2e7960ae8d')\"\n",
              "              title=\"Convert this dataframe to an interactive table.\"\n",
              "              style=\"display:none;\">\n",
              "        \n",
              "  <svg xmlns=\"http://www.w3.org/2000/svg\" height=\"24px\"viewBox=\"0 0 24 24\"\n",
              "       width=\"24px\">\n",
              "    <path d=\"M0 0h24v24H0V0z\" fill=\"none\"/>\n",
              "    <path d=\"M18.56 5.44l.94 2.06.94-2.06 2.06-.94-2.06-.94-.94-2.06-.94 2.06-2.06.94zm-11 1L8.5 8.5l.94-2.06 2.06-.94-2.06-.94L8.5 2.5l-.94 2.06-2.06.94zm10 10l.94 2.06.94-2.06 2.06-.94-2.06-.94-.94-2.06-.94 2.06-2.06.94z\"/><path d=\"M17.41 7.96l-1.37-1.37c-.4-.4-.92-.59-1.43-.59-.52 0-1.04.2-1.43.59L10.3 9.45l-7.72 7.72c-.78.78-.78 2.05 0 2.83L4 21.41c.39.39.9.59 1.41.59.51 0 1.02-.2 1.41-.59l7.78-7.78 2.81-2.81c.8-.78.8-2.07 0-2.86zM5.41 20L4 18.59l7.72-7.72 1.47 1.35L5.41 20z\"/>\n",
              "  </svg>\n",
              "      </button>\n",
              "      \n",
              "  <style>\n",
              "    .colab-df-container {\n",
              "      display:flex;\n",
              "      flex-wrap:wrap;\n",
              "      gap: 12px;\n",
              "    }\n",
              "\n",
              "    .colab-df-convert {\n",
              "      background-color: #E8F0FE;\n",
              "      border: none;\n",
              "      border-radius: 50%;\n",
              "      cursor: pointer;\n",
              "      display: none;\n",
              "      fill: #1967D2;\n",
              "      height: 32px;\n",
              "      padding: 0 0 0 0;\n",
              "      width: 32px;\n",
              "    }\n",
              "\n",
              "    .colab-df-convert:hover {\n",
              "      background-color: #E2EBFA;\n",
              "      box-shadow: 0px 1px 2px rgba(60, 64, 67, 0.3), 0px 1px 3px 1px rgba(60, 64, 67, 0.15);\n",
              "      fill: #174EA6;\n",
              "    }\n",
              "\n",
              "    [theme=dark] .colab-df-convert {\n",
              "      background-color: #3B4455;\n",
              "      fill: #D2E3FC;\n",
              "    }\n",
              "\n",
              "    [theme=dark] .colab-df-convert:hover {\n",
              "      background-color: #434B5C;\n",
              "      box-shadow: 0px 1px 3px 1px rgba(0, 0, 0, 0.15);\n",
              "      filter: drop-shadow(0px 1px 2px rgba(0, 0, 0, 0.3));\n",
              "      fill: #FFFFFF;\n",
              "    }\n",
              "  </style>\n",
              "\n",
              "      <script>\n",
              "        const buttonEl =\n",
              "          document.querySelector('#df-4f2a850c-f089-4843-8281-6c2e7960ae8d button.colab-df-convert');\n",
              "        buttonEl.style.display =\n",
              "          google.colab.kernel.accessAllowed ? 'block' : 'none';\n",
              "\n",
              "        async function convertToInteractive(key) {\n",
              "          const element = document.querySelector('#df-4f2a850c-f089-4843-8281-6c2e7960ae8d');\n",
              "          const dataTable =\n",
              "            await google.colab.kernel.invokeFunction('convertToInteractive',\n",
              "                                                     [key], {});\n",
              "          if (!dataTable) return;\n",
              "\n",
              "          const docLinkHtml = 'Like what you see? Visit the ' +\n",
              "            '<a target=\"_blank\" href=https://colab.research.google.com/notebooks/data_table.ipynb>data table notebook</a>'\n",
              "            + ' to learn more about interactive tables.';\n",
              "          element.innerHTML = '';\n",
              "          dataTable['output_type'] = 'display_data';\n",
              "          await google.colab.output.renderOutput(dataTable, element);\n",
              "          const docLink = document.createElement('div');\n",
              "          docLink.innerHTML = docLinkHtml;\n",
              "          element.appendChild(docLink);\n",
              "        }\n",
              "      </script>\n",
              "    </div>\n",
              "  </div>\n",
              "  "
            ]
          },
          "metadata": {},
          "execution_count": 41
        }
      ],
      "source": [
        "last_value"
      ]
    },
    {
      "cell_type": "code",
      "execution_count": 42,
      "metadata": {
        "colab": {
          "base_uri": "https://localhost:8080/"
        },
        "id": "j3ws9WYOTdRk",
        "outputId": "edb54039-5809-4467-843c-0feb0e111e9e"
      },
      "outputs": [
        {
          "output_type": "execute_result",
          "data": {
            "text/plain": [
              "((1862, 99, 1), (1862, 1))"
            ]
          },
          "metadata": {},
          "execution_count": 42
        }
      ],
      "source": [
        "X_train.shape, y_train.shape"
      ]
    },
    {
      "cell_type": "code",
      "execution_count": 42,
      "metadata": {
        "id": "yNlqopKgE1M3"
      },
      "outputs": [],
      "source": []
    }
  ],
  "metadata": {
    "colab": {
      "provenance": [],
      "authorship_tag": "ABX9TyPTk/N4CFlwWr2qNfm63/ru",
      "include_colab_link": true
    },
    "kernelspec": {
      "display_name": "Python 3",
      "name": "python3"
    },
    "language_info": {
      "name": "python"
    }
  },
  "nbformat": 4,
  "nbformat_minor": 0
}